{
  "cells": [
    {
      "cell_type": "markdown",
      "metadata": {
        "id": "view-in-github",
        "colab_type": "text"
      },
      "source": [
        "<a href=\"https://colab.research.google.com/github/whoissourabh/Next-Word-Prediction-Model/blob/main/Next_Word_Prediction_Model.ipynb\" target=\"_parent\"><img src=\"https://colab.research.google.com/assets/colab-badge.svg\" alt=\"Open In Colab\"/></a>"
      ]
    },
    {
      "cell_type": "markdown",
      "metadata": {
        "id": "s0s5uXD1vup5"
      },
      "source": [
        "### Importing Required Libraries:"
      ]
    },
    {
      "cell_type": "code",
      "execution_count": 3,
      "metadata": {
        "id": "F0TQDFFAvmkb"
      },
      "outputs": [],
      "source": [
        "import tensorflow as tf\n",
        "from tensorflow.keras.preprocessing.text import Tokenizer\n",
        "from tensorflow.keras.layers import Embedding, LSTM, Dense\n",
        "from tensorflow.keras.models import Sequential\n",
        "from tensorflow.keras.utils import to_categorical\n",
        "from tensorflow.keras.optimizers import Adam\n",
        "from tensorflow.keras.utils import plot_model\n",
        "import matplotlib.pyplot as plt\n",
        "import pickle\n",
        "import numpy as np\n",
        "import os"
      ]
    },
    {
      "cell_type": "markdown",
      "metadata": {
        "id": "xyFDGLCaxTQh"
      },
      "source": [
        "### Load and Pre Processing the data"
      ]
    },
    {
      "cell_type": "code",
      "execution_count": 4,
      "metadata": {
        "colab": {
          "base_uri": "https://localhost:8080/",
          "height": 70
        },
        "id": "YLAG827FwKs1",
        "outputId": "d22b67af-36b3-4eda-d0dc-76f4fe6dd81d"
      },
      "outputs": [
        {
          "output_type": "execute_result",
          "data": {
            "text/plain": [
              "'The Project Gutenberg eBook of Metamorphosis, by Franz Kafka This eBook is for the use of anyone anywhere in the United States and most other parts of the world at no cost and with almost no restrictions whatsoever. You may copy it, give it away or re-use it under the terms of the Project Gutenberg License included with this eBook or online at www.gutenberg.org. If you are not located in the United States, you will have to check the laws of the country where you are located before using this eBo'"
            ],
            "application/vnd.google.colaboratory.intrinsic+json": {
              "type": "string"
            }
          },
          "metadata": {},
          "execution_count": 4
        }
      ],
      "source": [
        "file = open(\"/content/drive/MyDrive/B.tech/Semester 7/Project/Next Word Prediction Model/Metamorphosis by Franz Kafka.txt\", \"r\", encoding = \"utf8\")\n",
        "\n",
        "# store file in list\n",
        "lines = []\n",
        "for i in file:\n",
        "    lines.append(i)\n",
        "\n",
        "# Convert list to string\n",
        "data = \"\"\n",
        "for i in lines:\n",
        "  data = ' '. join(lines)\n",
        "\n",
        "#replace unnecessary stuff with space\n",
        "data = data.replace('\\n', '').replace('\\r', '').replace('\\ufeff', '').replace('“','').replace('”','')  #new line, carriage return, unicode character --> replace by space\n",
        "\n",
        "#remove unnecessary spaces\n",
        "data = data.split()\n",
        "data = ' '.join(data)\n",
        "data[:500]"
      ]
    },
    {
      "cell_type": "code",
      "execution_count": 5,
      "metadata": {
        "colab": {
          "base_uri": "https://localhost:8080/"
        },
        "id": "dkTk1fBDwzIX",
        "outputId": "51df752c-b099-436f-fbea-1df1162874f4"
      },
      "outputs": [
        {
          "output_type": "execute_result",
          "data": {
            "text/plain": [
              "137893"
            ]
          },
          "metadata": {},
          "execution_count": 5
        }
      ],
      "source": [
        "len(data)"
      ]
    },
    {
      "cell_type": "markdown",
      "metadata": {
        "id": "ly_0VQ7gxeAo"
      },
      "source": [
        "### Applying Tokenization"
      ]
    },
    {
      "cell_type": "code",
      "execution_count": 6,
      "metadata": {
        "colab": {
          "base_uri": "https://localhost:8080/"
        },
        "id": "4RzvbC_wxo6o",
        "outputId": "1e74af6b-4e8b-4fbf-8ddb-afa7cbe3b32c"
      },
      "outputs": [
        {
          "output_type": "execute_result",
          "data": {
            "text/plain": [
              "[1, 44, 38, 253, 5, 582, 46, 842, 843, 27, 253, 77, 18, 1, 144]"
            ]
          },
          "metadata": {},
          "execution_count": 6
        }
      ],
      "source": [
        "tokenizer = Tokenizer()\n",
        "tokenizer.fit_on_texts([data])\n",
        "\n",
        "# saving the tokenizer for predict function\n",
        "pickle.dump(tokenizer, open('token.pkl', 'wb'))\n",
        "\n",
        "sequence_data = tokenizer.texts_to_sequences([data])[0]\n",
        "sequence_data[:15]\n"
      ]
    },
    {
      "cell_type": "code",
      "execution_count": 7,
      "metadata": {
        "colab": {
          "base_uri": "https://localhost:8080/"
        },
        "id": "beMnS2khyCsh",
        "outputId": "0b05d88b-226b-4af7-e78b-8f81702464c6"
      },
      "outputs": [
        {
          "output_type": "execute_result",
          "data": {
            "text/plain": [
              "25298"
            ]
          },
          "metadata": {},
          "execution_count": 7
        }
      ],
      "source": [
        "len(sequence_data)\n"
      ]
    },
    {
      "cell_type": "code",
      "execution_count": 8,
      "metadata": {
        "colab": {
          "base_uri": "https://localhost:8080/"
        },
        "id": "YOw_NfFuyJf7",
        "outputId": "5d748299-a7e7-42ba-ddcf-734c9e78cf0e"
      },
      "outputs": [
        {
          "output_type": "stream",
          "name": "stdout",
          "text": [
            "3127\n"
          ]
        }
      ],
      "source": [
        "vocab_size = len(tokenizer.word_index) + 1\n",
        "print(vocab_size)\n"
      ]
    },
    {
      "cell_type": "code",
      "execution_count": 9,
      "metadata": {
        "colab": {
          "base_uri": "https://localhost:8080/"
        },
        "id": "MW-imXAeyVPz",
        "outputId": "ce1dc48d-c8d8-4603-9010-b5a8a1de6cc5"
      },
      "outputs": [
        {
          "output_type": "stream",
          "name": "stdout",
          "text": [
            "The Length of sequences are:  25295\n"
          ]
        },
        {
          "output_type": "execute_result",
          "data": {
            "text/plain": [
              "array([[  1,  44,  38, 253],\n",
              "       [ 44,  38, 253,   5],\n",
              "       [ 38, 253,   5, 582],\n",
              "       [253,   5, 582,  46],\n",
              "       [  5, 582,  46, 842],\n",
              "       [582,  46, 842, 843],\n",
              "       [ 46, 842, 843,  27],\n",
              "       [842, 843,  27, 253],\n",
              "       [843,  27, 253,  77],\n",
              "       [ 27, 253,  77,  18]])"
            ]
          },
          "metadata": {},
          "execution_count": 9
        }
      ],
      "source": [
        "sequences = []\n",
        "\n",
        "for i in range(3, len(sequence_data)):\n",
        "    words = sequence_data[i-3:i+1]\n",
        "    sequences.append(words)\n",
        "\n",
        "print(\"The Length of sequences are: \", len(sequences))\n",
        "sequences = np.array(sequences)\n",
        "sequences[:10]\n"
      ]
    },
    {
      "cell_type": "code",
      "execution_count": 10,
      "metadata": {
        "id": "XDBJXaDDytyN"
      },
      "outputs": [],
      "source": [
        "X = []\n",
        "y = []\n",
        "\n",
        "for i in sequences:\n",
        "    X.append(i[0:3])\n",
        "    y.append(i[3])\n",
        "\n",
        "X = np.array(X)\n",
        "y = np.array(y)\n"
      ]
    },
    {
      "cell_type": "code",
      "execution_count": 11,
      "metadata": {
        "colab": {
          "base_uri": "https://localhost:8080/"
        },
        "id": "w7Nw_dCWy32Z",
        "outputId": "be184cc9-3b4f-4c6f-e00d-8ef73694d719"
      },
      "outputs": [
        {
          "output_type": "stream",
          "name": "stdout",
          "text": [
            "Data:  [[  1  44  38]\n",
            " [ 44  38 253]\n",
            " [ 38 253   5]\n",
            " [253   5 582]\n",
            " [  5 582  46]\n",
            " [582  46 842]\n",
            " [ 46 842 843]\n",
            " [842 843  27]\n",
            " [843  27 253]\n",
            " [ 27 253  77]]\n",
            "Response:  [253   5 582  46 842 843  27 253  77  18]\n"
          ]
        }
      ],
      "source": [
        "print(\"Data: \", X[:10])\n",
        "print(\"Response: \", y[:10])\n"
      ]
    },
    {
      "cell_type": "code",
      "execution_count": 12,
      "metadata": {
        "colab": {
          "base_uri": "https://localhost:8080/"
        },
        "id": "CGCqTk7iy9Pq",
        "outputId": "2b642ca9-8190-41fc-caff-55477d1561d6"
      },
      "outputs": [
        {
          "output_type": "execute_result",
          "data": {
            "text/plain": [
              "array([[0., 0., 0., ..., 0., 0., 0.],\n",
              "       [0., 0., 0., ..., 0., 0., 0.],\n",
              "       [0., 0., 0., ..., 0., 0., 0.],\n",
              "       [0., 0., 0., ..., 0., 0., 0.],\n",
              "       [0., 0., 0., ..., 0., 0., 0.]], dtype=float32)"
            ]
          },
          "metadata": {},
          "execution_count": 12
        }
      ],
      "source": [
        "y = to_categorical(y, num_classes=vocab_size)\n",
        "y[:5]"
      ]
    },
    {
      "cell_type": "markdown",
      "metadata": {
        "id": "vzREs7_lzB8Y"
      },
      "source": [
        "### Creating the Model:"
      ]
    },
    {
      "cell_type": "code",
      "execution_count": 13,
      "metadata": {
        "id": "ZRSVE913zGmC"
      },
      "outputs": [],
      "source": [
        "model = Sequential()\n",
        "model.add(Embedding(vocab_size, 10, input_length=3))\n",
        "model.add(LSTM(1000, return_sequences=True))\n",
        "model.add(LSTM(1000))\n",
        "model.add(Dense(1000, activation=\"relu\"))\n",
        "model.add(Dense(vocab_size, activation=\"softmax\"))\n"
      ]
    },
    {
      "cell_type": "code",
      "execution_count": 14,
      "metadata": {
        "colab": {
          "base_uri": "https://localhost:8080/"
        },
        "id": "YZkMmyHdzMpc",
        "outputId": "71777a55-d562-488e-dfb7-572b4e9876c4"
      },
      "outputs": [
        {
          "output_type": "stream",
          "name": "stdout",
          "text": [
            "Model: \"sequential\"\n",
            "_________________________________________________________________\n",
            " Layer (type)                Output Shape              Param #   \n",
            "=================================================================\n",
            " embedding (Embedding)       (None, 3, 10)             31270     \n",
            "                                                                 \n",
            " lstm (LSTM)                 (None, 3, 1000)           4044000   \n",
            "                                                                 \n",
            " lstm_1 (LSTM)               (None, 1000)              8004000   \n",
            "                                                                 \n",
            " dense (Dense)               (None, 1000)              1001000   \n",
            "                                                                 \n",
            " dense_1 (Dense)             (None, 3127)              3130127   \n",
            "                                                                 \n",
            "=================================================================\n",
            "Total params: 16210397 (61.84 MB)\n",
            "Trainable params: 16210397 (61.84 MB)\n",
            "Non-trainable params: 0 (0.00 Byte)\n",
            "_________________________________________________________________\n"
          ]
        }
      ],
      "source": [
        "model.summary()"
      ]
    },
    {
      "cell_type": "markdown",
      "metadata": {
        "id": "7XKKYYT12NMI"
      },
      "source": [
        "### Train the model"
      ]
    },
    {
      "cell_type": "code",
      "execution_count": 15,
      "metadata": {
        "colab": {
          "base_uri": "https://localhost:8080/"
        },
        "id": "eGp9dHAw2Pqb",
        "outputId": "3197d182-a5a6-4e31-b87f-f04b0f16debc"
      },
      "outputs": [
        {
          "output_type": "stream",
          "name": "stdout",
          "text": [
            "Epoch 1/70\n",
            "396/396 [==============================] - ETA: 0s - loss: 6.4499\n",
            "Epoch 1: loss improved from inf to 6.44987, saving model to next_words.h5\n"
          ]
        },
        {
          "output_type": "stream",
          "name": "stderr",
          "text": [
            "/usr/local/lib/python3.10/dist-packages/keras/src/engine/training.py:3079: UserWarning: You are saving your model as an HDF5 file via `model.save()`. This file format is considered legacy. We recommend using instead the native Keras format, e.g. `model.save('my_model.keras')`.\n",
            "  saving_api.save_model(\n"
          ]
        },
        {
          "output_type": "stream",
          "name": "stdout",
          "text": [
            "\b\b\b\b\b\b\b\b\b\b\b\b\b\b\b\b\b\b\b\b\b\b\b\b\b\b\b\b\b\b\b\b\b\b\b\b\b\b\b\b\b\b\b\b\b\b\b\b\b\b\b\b\b\b\b\b\b\b\b\b\b\b\b\b\b\r396/396 [==============================] - 22s 31ms/step - loss: 6.4499\n",
            "Epoch 2/70\n",
            "393/396 [============================>.] - ETA: 0s - loss: 6.0112\n",
            "Epoch 2: loss improved from 6.44987 to 6.01033, saving model to next_words.h5\n",
            "396/396 [==============================] - 7s 17ms/step - loss: 6.0103\n",
            "Epoch 3/70\n",
            "396/396 [==============================] - ETA: 0s - loss: 5.6358\n",
            "Epoch 3: loss improved from 6.01033 to 5.63576, saving model to next_words.h5\n",
            "396/396 [==============================] - 8s 19ms/step - loss: 5.6358\n",
            "Epoch 4/70\n",
            "393/396 [============================>.] - ETA: 0s - loss: 5.2709\n",
            "Epoch 4: loss improved from 5.63576 to 5.27299, saving model to next_words.h5\n",
            "396/396 [==============================] - 6s 16ms/step - loss: 5.2730\n",
            "Epoch 5/70\n",
            "396/396 [==============================] - ETA: 0s - loss: 4.9708\n",
            "Epoch 5: loss improved from 5.27299 to 4.97082, saving model to next_words.h5\n",
            "396/396 [==============================] - 7s 18ms/step - loss: 4.9708\n",
            "Epoch 6/70\n",
            "396/396 [==============================] - ETA: 0s - loss: 4.7300\n",
            "Epoch 6: loss improved from 4.97082 to 4.72997, saving model to next_words.h5\n",
            "396/396 [==============================] - 7s 17ms/step - loss: 4.7300\n",
            "Epoch 7/70\n",
            "396/396 [==============================] - ETA: 0s - loss: 4.5134\n",
            "Epoch 7: loss improved from 4.72997 to 4.51338, saving model to next_words.h5\n",
            "396/396 [==============================] - 6s 16ms/step - loss: 4.5134\n",
            "Epoch 8/70\n",
            "396/396 [==============================] - ETA: 0s - loss: 4.3075\n",
            "Epoch 8: loss improved from 4.51338 to 4.30755, saving model to next_words.h5\n",
            "396/396 [==============================] - 7s 17ms/step - loss: 4.3075\n",
            "Epoch 9/70\n",
            "395/396 [============================>.] - ETA: 0s - loss: 4.0941\n",
            "Epoch 9: loss improved from 4.30755 to 4.09394, saving model to next_words.h5\n",
            "396/396 [==============================] - 6s 16ms/step - loss: 4.0939\n",
            "Epoch 10/70\n",
            "394/396 [============================>.] - ETA: 0s - loss: 3.8642\n",
            "Epoch 10: loss improved from 4.09394 to 3.86469, saving model to next_words.h5\n",
            "396/396 [==============================] - 7s 18ms/step - loss: 3.8647\n",
            "Epoch 11/70\n",
            "396/396 [==============================] - ETA: 0s - loss: 3.6111\n",
            "Epoch 11: loss improved from 3.86469 to 3.61106, saving model to next_words.h5\n",
            "396/396 [==============================] - 6s 16ms/step - loss: 3.6111\n",
            "Epoch 12/70\n",
            "396/396 [==============================] - ETA: 0s - loss: 3.3402\n",
            "Epoch 12: loss improved from 3.61106 to 3.34020, saving model to next_words.h5\n",
            "396/396 [==============================] - 7s 17ms/step - loss: 3.3402\n",
            "Epoch 13/70\n",
            "396/396 [==============================] - ETA: 0s - loss: 3.0781\n",
            "Epoch 13: loss improved from 3.34020 to 3.07805, saving model to next_words.h5\n",
            "396/396 [==============================] - 7s 17ms/step - loss: 3.0781\n",
            "Epoch 14/70\n",
            "396/396 [==============================] - ETA: 0s - loss: 2.8149\n",
            "Epoch 14: loss improved from 3.07805 to 2.81494, saving model to next_words.h5\n",
            "396/396 [==============================] - 6s 16ms/step - loss: 2.8149\n",
            "Epoch 15/70\n",
            "393/396 [============================>.] - ETA: 0s - loss: 2.5706\n",
            "Epoch 15: loss improved from 2.81494 to 2.57054, saving model to next_words.h5\n",
            "396/396 [==============================] - 7s 18ms/step - loss: 2.5705\n",
            "Epoch 16/70\n",
            "394/396 [============================>.] - ETA: 0s - loss: 2.3452\n",
            "Epoch 16: loss improved from 2.57054 to 2.34628, saving model to next_words.h5\n",
            "396/396 [==============================] - 7s 17ms/step - loss: 2.3463\n",
            "Epoch 17/70\n",
            "396/396 [==============================] - ETA: 0s - loss: 2.1281\n",
            "Epoch 17: loss improved from 2.34628 to 2.12812, saving model to next_words.h5\n",
            "396/396 [==============================] - 7s 18ms/step - loss: 2.1281\n",
            "Epoch 18/70\n",
            "394/396 [============================>.] - ETA: 0s - loss: 1.9236\n",
            "Epoch 18: loss improved from 2.12812 to 1.92383, saving model to next_words.h5\n",
            "396/396 [==============================] - 7s 16ms/step - loss: 1.9238\n",
            "Epoch 19/70\n",
            "394/396 [============================>.] - ETA: 0s - loss: 1.7372\n",
            "Epoch 19: loss improved from 1.92383 to 1.73780, saving model to next_words.h5\n",
            "396/396 [==============================] - 6s 16ms/step - loss: 1.7378\n",
            "Epoch 20/70\n",
            "393/396 [============================>.] - ETA: 0s - loss: 1.5662\n",
            "Epoch 20: loss improved from 1.73780 to 1.56595, saving model to next_words.h5\n",
            "396/396 [==============================] - 7s 17ms/step - loss: 1.5659\n",
            "Epoch 21/70\n",
            "396/396 [==============================] - ETA: 0s - loss: 1.3968\n",
            "Epoch 21: loss improved from 1.56595 to 1.39679, saving model to next_words.h5\n",
            "396/396 [==============================] - 6s 16ms/step - loss: 1.3968\n",
            "Epoch 22/70\n",
            "396/396 [==============================] - ETA: 0s - loss: 1.2441\n",
            "Epoch 22: loss improved from 1.39679 to 1.24408, saving model to next_words.h5\n",
            "396/396 [==============================] - 7s 18ms/step - loss: 1.2441\n",
            "Epoch 23/70\n",
            "394/396 [============================>.] - ETA: 0s - loss: 1.1048\n",
            "Epoch 23: loss improved from 1.24408 to 1.10587, saving model to next_words.h5\n",
            "396/396 [==============================] - 6s 16ms/step - loss: 1.1059\n",
            "Epoch 24/70\n",
            "396/396 [==============================] - ETA: 0s - loss: 0.9836\n",
            "Epoch 24: loss improved from 1.10587 to 0.98357, saving model to next_words.h5\n",
            "396/396 [==============================] - 7s 17ms/step - loss: 0.9836\n",
            "Epoch 25/70\n",
            "395/396 [============================>.] - ETA: 0s - loss: 0.8678\n",
            "Epoch 25: loss improved from 0.98357 to 0.86795, saving model to next_words.h5\n",
            "396/396 [==============================] - 7s 17ms/step - loss: 0.8680\n",
            "Epoch 26/70\n",
            "393/396 [============================>.] - ETA: 0s - loss: 0.7606\n",
            "Epoch 26: loss improved from 0.86795 to 0.76079, saving model to next_words.h5\n",
            "396/396 [==============================] - 6s 16ms/step - loss: 0.7608\n",
            "Epoch 27/70\n",
            "394/396 [============================>.] - ETA: 0s - loss: 0.6949\n",
            "Epoch 27: loss improved from 0.76079 to 0.69534, saving model to next_words.h5\n",
            "396/396 [==============================] - 7s 18ms/step - loss: 0.6953\n",
            "Epoch 28/70\n",
            "396/396 [==============================] - ETA: 0s - loss: 0.6326\n",
            "Epoch 28: loss improved from 0.69534 to 0.63256, saving model to next_words.h5\n",
            "396/396 [==============================] - 6s 16ms/step - loss: 0.6326\n",
            "Epoch 29/70\n",
            "395/396 [============================>.] - ETA: 0s - loss: 0.5810\n",
            "Epoch 29: loss improved from 0.63256 to 0.58089, saving model to next_words.h5\n",
            "396/396 [==============================] - 7s 17ms/step - loss: 0.5809\n",
            "Epoch 30/70\n",
            "394/396 [============================>.] - ETA: 0s - loss: 0.5488\n",
            "Epoch 30: loss improved from 0.58089 to 0.54906, saving model to next_words.h5\n",
            "396/396 [==============================] - 7s 17ms/step - loss: 0.5491\n",
            "Epoch 31/70\n",
            "394/396 [============================>.] - ETA: 0s - loss: 0.5149\n",
            "Epoch 31: loss improved from 0.54906 to 0.51485, saving model to next_words.h5\n",
            "396/396 [==============================] - 7s 17ms/step - loss: 0.5148\n",
            "Epoch 32/70\n",
            "395/396 [============================>.] - ETA: 0s - loss: 0.4848\n",
            "Epoch 32: loss improved from 0.51485 to 0.48488, saving model to next_words.h5\n",
            "396/396 [==============================] - 7s 17ms/step - loss: 0.4849\n",
            "Epoch 33/70\n",
            "393/396 [============================>.] - ETA: 0s - loss: 0.4616\n",
            "Epoch 33: loss improved from 0.48488 to 0.46350, saving model to next_words.h5\n",
            "396/396 [==============================] - 6s 16ms/step - loss: 0.4635\n",
            "Epoch 34/70\n",
            "394/396 [============================>.] - ETA: 0s - loss: 0.4557\n",
            "Epoch 34: loss improved from 0.46350 to 0.45651, saving model to next_words.h5\n",
            "396/396 [==============================] - 7s 17ms/step - loss: 0.4565\n",
            "Epoch 35/70\n",
            "395/396 [============================>.] - ETA: 0s - loss: 0.4475\n",
            "Epoch 35: loss improved from 0.45651 to 0.44772, saving model to next_words.h5\n",
            "396/396 [==============================] - 6s 16ms/step - loss: 0.4477\n",
            "Epoch 36/70\n",
            "396/396 [==============================] - ETA: 0s - loss: 0.4282\n",
            "Epoch 36: loss improved from 0.44772 to 0.42817, saving model to next_words.h5\n",
            "396/396 [==============================] - 7s 17ms/step - loss: 0.4282\n",
            "Epoch 37/70\n",
            "395/396 [============================>.] - ETA: 0s - loss: 0.4110\n",
            "Epoch 37: loss improved from 0.42817 to 0.41078, saving model to next_words.h5\n",
            "396/396 [==============================] - 7s 17ms/step - loss: 0.4108\n",
            "Epoch 38/70\n",
            "393/396 [============================>.] - ETA: 0s - loss: 0.4048\n",
            "Epoch 38: loss improved from 0.41078 to 0.40506, saving model to next_words.h5\n",
            "396/396 [==============================] - 6s 16ms/step - loss: 0.4051\n",
            "Epoch 39/70\n",
            "394/396 [============================>.] - ETA: 0s - loss: 0.3929\n",
            "Epoch 39: loss improved from 0.40506 to 0.39367, saving model to next_words.h5\n",
            "396/396 [==============================] - 7s 18ms/step - loss: 0.3937\n",
            "Epoch 40/70\n",
            "395/396 [============================>.] - ETA: 0s - loss: 0.3763\n",
            "Epoch 40: loss improved from 0.39367 to 0.37621, saving model to next_words.h5\n",
            "396/396 [==============================] - 6s 16ms/step - loss: 0.3762\n",
            "Epoch 41/70\n",
            "396/396 [==============================] - ETA: 0s - loss: 0.3765\n",
            "Epoch 41: loss did not improve from 0.37621\n",
            "396/396 [==============================] - 6s 15ms/step - loss: 0.3765\n",
            "Epoch 42/70\n",
            "394/396 [============================>.] - ETA: 0s - loss: 0.3671\n",
            "Epoch 42: loss improved from 0.37621 to 0.36698, saving model to next_words.h5\n",
            "396/396 [==============================] - 7s 17ms/step - loss: 0.3670\n",
            "Epoch 43/70\n",
            "394/396 [============================>.] - ETA: 0s - loss: 0.3757\n",
            "Epoch 43: loss did not improve from 0.36698\n",
            "396/396 [==============================] - 6s 15ms/step - loss: 0.3758\n",
            "Epoch 44/70\n",
            "393/396 [============================>.] - ETA: 0s - loss: 0.3743\n",
            "Epoch 44: loss did not improve from 0.36698\n",
            "396/396 [==============================] - 7s 17ms/step - loss: 0.3747\n",
            "Epoch 45/70\n",
            "396/396 [==============================] - ETA: 0s - loss: 0.3597\n",
            "Epoch 45: loss improved from 0.36698 to 0.35972, saving model to next_words.h5\n",
            "396/396 [==============================] - 6s 16ms/step - loss: 0.3597\n",
            "Epoch 46/70\n",
            "394/396 [============================>.] - ETA: 0s - loss: 0.3481\n",
            "Epoch 46: loss improved from 0.35972 to 0.34795, saving model to next_words.h5\n",
            "396/396 [==============================] - 7s 17ms/step - loss: 0.3479\n",
            "Epoch 47/70\n",
            "395/396 [============================>.] - ETA: 0s - loss: 0.3459\n",
            "Epoch 47: loss improved from 0.34795 to 0.34584, saving model to next_words.h5\n",
            "396/396 [==============================] - 7s 17ms/step - loss: 0.3458\n",
            "Epoch 48/70\n",
            "395/396 [============================>.] - ETA: 0s - loss: 0.3278\n",
            "Epoch 48: loss improved from 0.34584 to 0.32772, saving model to next_words.h5\n",
            "396/396 [==============================] - 6s 16ms/step - loss: 0.3277\n",
            "Epoch 49/70\n",
            "393/396 [============================>.] - ETA: 0s - loss: 0.3253\n",
            "Epoch 49: loss improved from 0.32772 to 0.32592, saving model to next_words.h5\n",
            "396/396 [==============================] - 7s 18ms/step - loss: 0.3259\n",
            "Epoch 50/70\n",
            "395/396 [============================>.] - ETA: 0s - loss: 0.3216\n",
            "Epoch 50: loss improved from 0.32592 to 0.32173, saving model to next_words.h5\n",
            "396/396 [==============================] - 6s 16ms/step - loss: 0.3217\n",
            "Epoch 51/70\n",
            "395/396 [============================>.] - ETA: 0s - loss: 0.3205\n",
            "Epoch 51: loss improved from 0.32173 to 0.32042, saving model to next_words.h5\n",
            "396/396 [==============================] - 7s 17ms/step - loss: 0.3204\n",
            "Epoch 52/70\n",
            "396/396 [==============================] - ETA: 0s - loss: 0.3243\n",
            "Epoch 52: loss did not improve from 0.32042\n",
            "396/396 [==============================] - 6s 16ms/step - loss: 0.3243\n",
            "Epoch 53/70\n",
            "395/396 [============================>.] - ETA: 0s - loss: 0.3213\n",
            "Epoch 53: loss did not improve from 0.32042\n",
            "396/396 [==============================] - 6s 15ms/step - loss: 0.3212\n",
            "Epoch 54/70\n",
            "394/396 [============================>.] - ETA: 0s - loss: 0.3067\n",
            "Epoch 54: loss improved from 0.32042 to 0.30692, saving model to next_words.h5\n",
            "396/396 [==============================] - 7s 18ms/step - loss: 0.3069\n",
            "Epoch 55/70\n",
            "396/396 [==============================] - ETA: 0s - loss: 0.3049\n",
            "Epoch 55: loss improved from 0.30692 to 0.30495, saving model to next_words.h5\n",
            "396/396 [==============================] - 6s 16ms/step - loss: 0.3049\n",
            "Epoch 56/70\n",
            "394/396 [============================>.] - ETA: 0s - loss: 0.2984\n",
            "Epoch 56: loss improved from 0.30495 to 0.29889, saving model to next_words.h5\n",
            "396/396 [==============================] - 7s 17ms/step - loss: 0.2989\n",
            "Epoch 57/70\n",
            "396/396 [==============================] - ETA: 0s - loss: 0.2999\n",
            "Epoch 57: loss did not improve from 0.29889\n",
            "396/396 [==============================] - 6s 16ms/step - loss: 0.2999\n",
            "Epoch 58/70\n",
            "396/396 [==============================] - ETA: 0s - loss: 0.3039\n",
            "Epoch 58: loss did not improve from 0.29889\n",
            "396/396 [==============================] - 6s 15ms/step - loss: 0.3039\n",
            "Epoch 59/70\n",
            "394/396 [============================>.] - ETA: 0s - loss: 0.3032\n",
            "Epoch 59: loss did not improve from 0.29889\n",
            "396/396 [==============================] - 7s 17ms/step - loss: 0.3035\n",
            "Epoch 60/70\n",
            "395/396 [============================>.] - ETA: 0s - loss: 0.2975\n",
            "Epoch 60: loss improved from 0.29889 to 0.29741, saving model to next_words.h5\n",
            "396/396 [==============================] - 6s 16ms/step - loss: 0.2974\n",
            "Epoch 61/70\n",
            "395/396 [============================>.] - ETA: 0s - loss: 0.2908\n",
            "Epoch 61: loss improved from 0.29741 to 0.29078, saving model to next_words.h5\n",
            "396/396 [==============================] - 7s 17ms/step - loss: 0.2908\n",
            "Epoch 62/70\n",
            "396/396 [==============================] - ETA: 0s - loss: 0.2952\n",
            "Epoch 62: loss did not improve from 0.29078\n",
            "396/396 [==============================] - 6s 16ms/step - loss: 0.2952\n",
            "Epoch 63/70\n",
            "395/396 [============================>.] - ETA: 0s - loss: 0.2941\n",
            "Epoch 63: loss did not improve from 0.29078\n",
            "396/396 [==============================] - 6s 15ms/step - loss: 0.2941\n",
            "Epoch 64/70\n",
            "395/396 [============================>.] - ETA: 0s - loss: 0.2788\n",
            "Epoch 64: loss improved from 0.29078 to 0.27880, saving model to next_words.h5\n",
            "396/396 [==============================] - 7s 18ms/step - loss: 0.2788\n",
            "Epoch 65/70\n",
            "395/396 [============================>.] - ETA: 0s - loss: 0.2655\n",
            "Epoch 65: loss improved from 0.27880 to 0.26553, saving model to next_words.h5\n",
            "396/396 [==============================] - 6s 16ms/step - loss: 0.2655\n",
            "Epoch 66/70\n",
            "396/396 [==============================] - ETA: 0s - loss: 0.2621\n",
            "Epoch 66: loss improved from 0.26553 to 0.26208, saving model to next_words.h5\n",
            "396/396 [==============================] - 7s 17ms/step - loss: 0.2621\n",
            "Epoch 67/70\n",
            "395/396 [============================>.] - ETA: 0s - loss: 0.2651\n",
            "Epoch 67: loss did not improve from 0.26208\n",
            "396/396 [==============================] - 6s 16ms/step - loss: 0.2653\n",
            "Epoch 68/70\n",
            "394/396 [============================>.] - ETA: 0s - loss: 0.2798\n",
            "Epoch 68: loss did not improve from 0.26208\n",
            "396/396 [==============================] - 6s 15ms/step - loss: 0.2799\n",
            "Epoch 69/70\n",
            "396/396 [==============================] - ETA: 0s - loss: 0.2982\n",
            "Epoch 69: loss did not improve from 0.26208\n",
            "396/396 [==============================] - 7s 17ms/step - loss: 0.2982\n",
            "Epoch 70/70\n",
            "394/396 [============================>.] - ETA: 0s - loss: 0.2936\n",
            "Epoch 70: loss did not improve from 0.26208\n",
            "396/396 [==============================] - 6s 15ms/step - loss: 0.2936\n"
          ]
        },
        {
          "output_type": "execute_result",
          "data": {
            "text/plain": [
              "<keras.src.callbacks.History at 0x7b5f0e717e20>"
            ]
          },
          "metadata": {},
          "execution_count": 15
        }
      ],
      "source": [
        "from tensorflow.keras.callbacks import ModelCheckpoint\n",
        "\n",
        "checkpoint = ModelCheckpoint(\"next_words.h5\", monitor='loss', verbose=1, save_best_only=True)\n",
        "model.compile(loss=\"categorical_crossentropy\", optimizer=Adam(learning_rate=0.001))\n",
        "model.fit(X, y, epochs=70, batch_size=64, callbacks=[checkpoint])"
      ]
    },
    {
      "cell_type": "code",
      "execution_count": 16,
      "metadata": {
        "colab": {
          "base_uri": "https://localhost:8080/"
        },
        "id": "4IIRBNyiQxOR",
        "outputId": "26b5f1d9-f3bd-42f2-b62b-9b2e057601de"
      },
      "outputs": [
        {
          "output_type": "stream",
          "name": "stdout",
          "text": [
            "Epoch 1/70\n",
            "395/396 [============================>.] - ETA: 0s - loss: 0.2742\n",
            "Epoch 1: loss did not improve from 0.26208\n",
            "396/396 [==============================] - 6s 16ms/step - loss: 0.2741\n",
            "Epoch 2/70\n",
            "393/396 [============================>.] - ETA: 0s - loss: 0.2651\n",
            "Epoch 2: loss did not improve from 0.26208\n",
            "396/396 [==============================] - 6s 15ms/step - loss: 0.2653\n",
            "Epoch 3/70\n",
            "395/396 [============================>.] - ETA: 0s - loss: 0.2524\n",
            "Epoch 3: loss improved from 0.26208 to 0.25247, saving model to next_words.h5\n",
            "396/396 [==============================] - 7s 17ms/step - loss: 0.2525\n",
            "Epoch 4/70\n",
            "394/396 [============================>.] - ETA: 0s - loss: 0.2492\n",
            "Epoch 4: loss improved from 0.25247 to 0.24948, saving model to next_words.h5\n",
            "396/396 [==============================] - 7s 17ms/step - loss: 0.2495\n",
            "Epoch 5/70\n",
            "394/396 [============================>.] - ETA: 0s - loss: 0.2488\n",
            "Epoch 5: loss improved from 0.24948 to 0.24924, saving model to next_words.h5\n",
            "396/396 [==============================] - 6s 16ms/step - loss: 0.2492\n",
            "Epoch 6/70\n",
            "393/396 [============================>.] - ETA: 0s - loss: 0.2535\n",
            "Epoch 6: loss did not improve from 0.24924\n",
            "396/396 [==============================] - 7s 16ms/step - loss: 0.2533\n",
            "Epoch 7/70\n",
            "395/396 [============================>.] - ETA: 0s - loss: 0.2653\n",
            "Epoch 7: loss did not improve from 0.24924\n",
            "396/396 [==============================] - 6s 15ms/step - loss: 0.2653\n",
            "Epoch 8/70\n",
            "394/396 [============================>.] - ETA: 0s - loss: 0.2806\n",
            "Epoch 8: loss did not improve from 0.24924\n",
            "396/396 [==============================] - 6s 16ms/step - loss: 0.2809\n",
            "Epoch 9/70\n",
            "393/396 [============================>.] - ETA: 0s - loss: 0.2719\n",
            "Epoch 9: loss did not improve from 0.24924\n",
            "396/396 [==============================] - 6s 15ms/step - loss: 0.2723\n",
            "Epoch 10/70\n",
            "393/396 [============================>.] - ETA: 0s - loss: 0.2575\n",
            "Epoch 10: loss did not improve from 0.24924\n",
            "396/396 [==============================] - 6s 15ms/step - loss: 0.2577\n",
            "Epoch 11/70\n",
            "394/396 [============================>.] - ETA: 0s - loss: 0.2433\n",
            "Epoch 11: loss improved from 0.24924 to 0.24369, saving model to next_words.h5\n",
            "396/396 [==============================] - 7s 17ms/step - loss: 0.2437\n",
            "Epoch 12/70\n",
            "394/396 [============================>.] - ETA: 0s - loss: 0.2359\n",
            "Epoch 12: loss improved from 0.24369 to 0.23617, saving model to next_words.h5\n",
            "396/396 [==============================] - 6s 16ms/step - loss: 0.2362\n",
            "Epoch 13/70\n",
            "396/396 [==============================] - ETA: 0s - loss: 0.2370\n",
            "Epoch 13: loss did not improve from 0.23617\n",
            "396/396 [==============================] - 6s 15ms/step - loss: 0.2370\n",
            "Epoch 14/70\n",
            "393/396 [============================>.] - ETA: 0s - loss: 0.2357\n",
            "Epoch 14: loss did not improve from 0.23617\n",
            "396/396 [==============================] - 6s 15ms/step - loss: 0.2362\n",
            "Epoch 15/70\n",
            "393/396 [============================>.] - ETA: 0s - loss: 0.2325\n",
            "Epoch 15: loss improved from 0.23617 to 0.23345, saving model to next_words.h5\n",
            "396/396 [==============================] - 6s 16ms/step - loss: 0.2334\n",
            "Epoch 16/70\n",
            "396/396 [==============================] - ETA: 0s - loss: 0.2491\n",
            "Epoch 16: loss did not improve from 0.23345\n",
            "396/396 [==============================] - 6s 16ms/step - loss: 0.2491\n",
            "Epoch 17/70\n",
            "394/396 [============================>.] - ETA: 0s - loss: 0.2808\n",
            "Epoch 17: loss did not improve from 0.23345\n",
            "396/396 [==============================] - 6s 16ms/step - loss: 0.2812\n",
            "Epoch 18/70\n",
            "396/396 [==============================] - ETA: 0s - loss: 0.2779\n",
            "Epoch 18: loss did not improve from 0.23345\n",
            "396/396 [==============================] - 6s 16ms/step - loss: 0.2779\n",
            "Epoch 19/70\n",
            "396/396 [==============================] - ETA: 0s - loss: 0.2512\n",
            "Epoch 19: loss did not improve from 0.23345\n",
            "396/396 [==============================] - 6s 16ms/step - loss: 0.2512\n",
            "Epoch 20/70\n",
            "393/396 [============================>.] - ETA: 0s - loss: 0.2364\n",
            "Epoch 20: loss did not improve from 0.23345\n",
            "396/396 [==============================] - 6s 15ms/step - loss: 0.2360\n",
            "Epoch 21/70\n",
            "395/396 [============================>.] - ETA: 0s - loss: 0.2285\n",
            "Epoch 21: loss improved from 0.23345 to 0.22846, saving model to next_words.h5\n",
            "396/396 [==============================] - 7s 18ms/step - loss: 0.2285\n",
            "Epoch 22/70\n",
            "394/396 [============================>.] - ETA: 0s - loss: 0.2214\n",
            "Epoch 22: loss improved from 0.22846 to 0.22161, saving model to next_words.h5\n",
            "396/396 [==============================] - 6s 16ms/step - loss: 0.2216\n",
            "Epoch 23/70\n",
            "394/396 [============================>.] - ETA: 0s - loss: 0.2201\n",
            "Epoch 23: loss improved from 0.22161 to 0.22019, saving model to next_words.h5\n",
            "396/396 [==============================] - 7s 17ms/step - loss: 0.2202\n",
            "Epoch 24/70\n",
            "396/396 [==============================] - ETA: 0s - loss: 0.2201\n",
            "Epoch 24: loss improved from 0.22019 to 0.22010, saving model to next_words.h5\n",
            "396/396 [==============================] - 7s 17ms/step - loss: 0.2201\n",
            "Epoch 25/70\n",
            "395/396 [============================>.] - ETA: 0s - loss: 0.2215\n",
            "Epoch 25: loss did not improve from 0.22010\n",
            "396/396 [==============================] - 6s 15ms/step - loss: 0.2216\n",
            "Epoch 26/70\n",
            "394/396 [============================>.] - ETA: 0s - loss: 0.2232\n",
            "Epoch 26: loss did not improve from 0.22010\n",
            "396/396 [==============================] - 7s 17ms/step - loss: 0.2235\n",
            "Epoch 27/70\n",
            "393/396 [============================>.] - ETA: 0s - loss: 0.2446\n",
            "Epoch 27: loss did not improve from 0.22010\n",
            "396/396 [==============================] - 6s 15ms/step - loss: 0.2458\n",
            "Epoch 28/70\n",
            "394/396 [============================>.] - ETA: 0s - loss: 0.3171\n",
            "Epoch 28: loss did not improve from 0.22010\n",
            "396/396 [==============================] - 6s 15ms/step - loss: 0.3172\n",
            "Epoch 29/70\n",
            "394/396 [============================>.] - ETA: 0s - loss: 0.2724\n",
            "Epoch 29: loss did not improve from 0.22010\n",
            "396/396 [==============================] - 6s 16ms/step - loss: 0.2725\n",
            "Epoch 30/70\n",
            "395/396 [============================>.] - ETA: 0s - loss: 0.2307\n",
            "Epoch 30: loss did not improve from 0.22010\n",
            "396/396 [==============================] - 6s 15ms/step - loss: 0.2306\n",
            "Epoch 31/70\n",
            "395/396 [============================>.] - ETA: 0s - loss: 0.2161\n",
            "Epoch 31: loss improved from 0.22010 to 0.21610, saving model to next_words.h5\n",
            "396/396 [==============================] - 7s 17ms/step - loss: 0.2161\n",
            "Epoch 32/70\n",
            "395/396 [============================>.] - ETA: 0s - loss: 0.2133\n",
            "Epoch 32: loss improved from 0.21610 to 0.21318, saving model to next_words.h5\n",
            "396/396 [==============================] - 6s 16ms/step - loss: 0.2132\n",
            "Epoch 33/70\n",
            "394/396 [============================>.] - ETA: 0s - loss: 0.2107\n",
            "Epoch 33: loss improved from 0.21318 to 0.21065, saving model to next_words.h5\n",
            "396/396 [==============================] - 6s 16ms/step - loss: 0.2107\n",
            "Epoch 34/70\n",
            "393/396 [============================>.] - ETA: 0s - loss: 0.2110\n",
            "Epoch 34: loss did not improve from 0.21065\n",
            "396/396 [==============================] - 6s 16ms/step - loss: 0.2113\n",
            "Epoch 35/70\n",
            "395/396 [============================>.] - ETA: 0s - loss: 0.2136\n",
            "Epoch 35: loss did not improve from 0.21065\n",
            "396/396 [==============================] - 6s 15ms/step - loss: 0.2135\n",
            "Epoch 36/70\n",
            "396/396 [==============================] - ETA: 0s - loss: 0.2138\n",
            "Epoch 36: loss did not improve from 0.21065\n",
            "396/396 [==============================] - 6s 16ms/step - loss: 0.2138\n",
            "Epoch 37/70\n",
            "394/396 [============================>.] - ETA: 0s - loss: 0.2172\n",
            "Epoch 37: loss did not improve from 0.21065\n",
            "396/396 [==============================] - 6s 15ms/step - loss: 0.2177\n",
            "Epoch 38/70\n",
            "395/396 [============================>.] - ETA: 0s - loss: 0.2312\n",
            "Epoch 38: loss did not improve from 0.21065\n",
            "396/396 [==============================] - 6s 15ms/step - loss: 0.2313\n",
            "Epoch 39/70\n",
            "394/396 [============================>.] - ETA: 0s - loss: 0.3277\n",
            "Epoch 39: loss did not improve from 0.21065\n",
            "396/396 [==============================] - 7s 17ms/step - loss: 0.3274\n",
            "Epoch 40/70\n",
            "395/396 [============================>.] - ETA: 0s - loss: 0.2590\n",
            "Epoch 40: loss did not improve from 0.21065\n",
            "396/396 [==============================] - 6s 15ms/step - loss: 0.2590\n",
            "Epoch 41/70\n",
            "394/396 [============================>.] - ETA: 0s - loss: 0.2265\n",
            "Epoch 41: loss did not improve from 0.21065\n",
            "396/396 [==============================] - 6s 16ms/step - loss: 0.2269\n",
            "Epoch 42/70\n",
            "395/396 [============================>.] - ETA: 0s - loss: 0.2082\n",
            "Epoch 42: loss improved from 0.21065 to 0.20817, saving model to next_words.h5\n",
            "396/396 [==============================] - 7s 17ms/step - loss: 0.2082\n",
            "Epoch 43/70\n",
            "393/396 [============================>.] - ETA: 0s - loss: 0.2027\n",
            "Epoch 43: loss improved from 0.20817 to 0.20273, saving model to next_words.h5\n",
            "396/396 [==============================] - 6s 16ms/step - loss: 0.2027\n",
            "Epoch 44/70\n",
            "394/396 [============================>.] - ETA: 0s - loss: 0.2016\n",
            "Epoch 44: loss improved from 0.20273 to 0.20181, saving model to next_words.h5\n",
            "396/396 [==============================] - 7s 18ms/step - loss: 0.2018\n",
            "Epoch 45/70\n",
            "394/396 [============================>.] - ETA: 0s - loss: 0.2042\n",
            "Epoch 45: loss did not improve from 0.20181\n",
            "396/396 [==============================] - 6s 15ms/step - loss: 0.2040\n",
            "Epoch 46/70\n",
            "396/396 [==============================] - ETA: 0s - loss: 0.2055\n",
            "Epoch 46: loss did not improve from 0.20181\n",
            "396/396 [==============================] - 6s 16ms/step - loss: 0.2055\n",
            "Epoch 47/70\n",
            "396/396 [==============================] - ETA: 0s - loss: 0.2080\n",
            "Epoch 47: loss did not improve from 0.20181\n",
            "396/396 [==============================] - 6s 16ms/step - loss: 0.2080\n",
            "Epoch 48/70\n",
            "394/396 [============================>.] - ETA: 0s - loss: 0.2151\n",
            "Epoch 48: loss did not improve from 0.20181\n",
            "396/396 [==============================] - 6s 15ms/step - loss: 0.2155\n",
            "Epoch 49/70\n",
            "396/396 [==============================] - ETA: 0s - loss: 0.2627\n",
            "Epoch 49: loss did not improve from 0.20181\n",
            "396/396 [==============================] - 7s 17ms/step - loss: 0.2627\n",
            "Epoch 50/70\n",
            "394/396 [============================>.] - ETA: 0s - loss: 0.2915\n",
            "Epoch 50: loss did not improve from 0.20181\n",
            "396/396 [==============================] - 6s 15ms/step - loss: 0.2916\n",
            "Epoch 51/70\n",
            "395/396 [============================>.] - ETA: 0s - loss: 0.2453\n",
            "Epoch 51: loss did not improve from 0.20181\n",
            "396/396 [==============================] - 6s 16ms/step - loss: 0.2453\n",
            "Epoch 52/70\n",
            "396/396 [==============================] - ETA: 0s - loss: 0.2106\n",
            "Epoch 52: loss did not improve from 0.20181\n",
            "396/396 [==============================] - 6s 16ms/step - loss: 0.2106\n",
            "Epoch 53/70\n",
            "395/396 [============================>.] - ETA: 0s - loss: 0.2023\n",
            "Epoch 53: loss did not improve from 0.20181\n",
            "396/396 [==============================] - 6s 15ms/step - loss: 0.2024\n",
            "Epoch 54/70\n",
            "396/396 [==============================] - ETA: 0s - loss: 0.1983\n",
            "Epoch 54: loss improved from 0.20181 to 0.19830, saving model to next_words.h5\n",
            "396/396 [==============================] - 7s 17ms/step - loss: 0.1983\n",
            "Epoch 55/70\n",
            "394/396 [============================>.] - ETA: 0s - loss: 0.1974\n",
            "Epoch 55: loss improved from 0.19830 to 0.19744, saving model to next_words.h5\n",
            "396/396 [==============================] - 6s 16ms/step - loss: 0.1974\n",
            "Epoch 56/70\n",
            "394/396 [============================>.] - ETA: 0s - loss: 0.1992\n",
            "Epoch 56: loss did not improve from 0.19744\n",
            "396/396 [==============================] - 6s 16ms/step - loss: 0.1991\n",
            "Epoch 57/70\n",
            "393/396 [============================>.] - ETA: 0s - loss: 0.2010\n",
            "Epoch 57: loss did not improve from 0.19744\n",
            "396/396 [==============================] - 6s 16ms/step - loss: 0.2007\n",
            "Epoch 58/70\n",
            "394/396 [============================>.] - ETA: 0s - loss: 0.2033\n",
            "Epoch 58: loss did not improve from 0.19744\n",
            "396/396 [==============================] - 6s 15ms/step - loss: 0.2036\n",
            "Epoch 59/70\n",
            "396/396 [==============================] - ETA: 0s - loss: 0.2083\n",
            "Epoch 59: loss did not improve from 0.19744\n",
            "396/396 [==============================] - 6s 16ms/step - loss: 0.2083\n",
            "Epoch 60/70\n",
            "396/396 [==============================] - ETA: 0s - loss: 0.2444\n",
            "Epoch 60: loss did not improve from 0.19744\n",
            "396/396 [==============================] - 6s 15ms/step - loss: 0.2444\n",
            "Epoch 61/70\n",
            "394/396 [============================>.] - ETA: 0s - loss: 0.3158\n",
            "Epoch 61: loss did not improve from 0.19744\n",
            "396/396 [==============================] - 6s 15ms/step - loss: 0.3161\n",
            "Epoch 62/70\n",
            "394/396 [============================>.] - ETA: 0s - loss: 0.2346\n",
            "Epoch 62: loss did not improve from 0.19744\n",
            "396/396 [==============================] - 7s 17ms/step - loss: 0.2346\n",
            "Epoch 63/70\n",
            "395/396 [============================>.] - ETA: 0s - loss: 0.2038\n",
            "Epoch 63: loss did not improve from 0.19744\n",
            "396/396 [==============================] - 6s 15ms/step - loss: 0.2037\n",
            "Epoch 64/70\n",
            "395/396 [============================>.] - ETA: 0s - loss: 0.1935\n",
            "Epoch 64: loss improved from 0.19744 to 0.19342, saving model to next_words.h5\n",
            "396/396 [==============================] - 7s 17ms/step - loss: 0.1934\n",
            "Epoch 65/70\n",
            "393/396 [============================>.] - ETA: 0s - loss: 0.1918\n",
            "Epoch 65: loss improved from 0.19342 to 0.19254, saving model to next_words.h5\n",
            "396/396 [==============================] - 7s 17ms/step - loss: 0.1925\n",
            "Epoch 66/70\n",
            "395/396 [============================>.] - ETA: 0s - loss: 0.1930\n",
            "Epoch 66: loss did not improve from 0.19254\n",
            "396/396 [==============================] - 6s 15ms/step - loss: 0.1931\n",
            "Epoch 67/70\n",
            "396/396 [==============================] - ETA: 0s - loss: 0.1945\n",
            "Epoch 67: loss did not improve from 0.19254\n",
            "396/396 [==============================] - 7s 17ms/step - loss: 0.1945\n",
            "Epoch 68/70\n",
            "396/396 [==============================] - ETA: 0s - loss: 0.1971\n",
            "Epoch 68: loss did not improve from 0.19254\n",
            "396/396 [==============================] - 6s 15ms/step - loss: 0.1971\n",
            "Epoch 69/70\n",
            "396/396 [==============================] - ETA: 0s - loss: 0.2004\n",
            "Epoch 69: loss did not improve from 0.19254\n",
            "396/396 [==============================] - 6s 16ms/step - loss: 0.2004\n",
            "Epoch 70/70\n",
            "394/396 [============================>.] - ETA: 0s - loss: 0.2688\n",
            "Epoch 70: loss did not improve from 0.19254\n",
            "396/396 [==============================] - 6s 16ms/step - loss: 0.2693\n"
          ]
        }
      ],
      "source": [
        "history = model.fit(X, y, epochs=70, batch_size=64, callbacks=[checkpoint])"
      ]
    },
    {
      "cell_type": "markdown",
      "metadata": {
        "id": "N_EEvKdwq6Ca"
      },
      "source": [
        "### DATA VISUALIZATION"
      ]
    },
    {
      "cell_type": "code",
      "execution_count": 17,
      "metadata": {
        "colab": {
          "base_uri": "https://localhost:8080/",
          "height": 472
        },
        "id": "I0n-PKO4VZU_",
        "outputId": "ea1a717e-8de9-4206-a2fa-7fd4aa5e7083"
      },
      "outputs": [
        {
          "output_type": "display_data",
          "data": {
            "text/plain": [
              "<Figure size 640x480 with 1 Axes>"
            ],
            "image/png": "[encoded data removed]"
          },
          "metadata": {}
        }
      ],
      "source": [
        "# Loss graph\n",
        "plt.plot(history.history['loss'], label='train loss')\n",
        "plt.title('Loss Graph')\n",
        "plt.xlabel('Epoch')\n",
        "plt.ylabel('Loss')\n",
        "plt.legend()\n",
        "plt.show()"
      ]
    },
    {
      "cell_type": "code",
      "execution_count": 18,
      "metadata": {
        "colab": {
          "base_uri": "https://localhost:8080/",
          "height": 644
        },
        "id": "NvrpDTMspt47",
        "outputId": "105c84eb-6fe9-451f-82c0-491854957b8b"
      },
      "outputs": [
        {
          "output_type": "execute_result",
          "data": {
            "image/png": "[encoded data removed]",
            "text/plain": [
              "<IPython.core.display.Image object>"
            ]
          },
          "metadata": {},
          "execution_count": 18
        }
      ],
      "source": [
        "# Assuming 'model' is your Keras model\n",
        "plot_model(model, to_file='model.png', show_shapes=True, show_layer_names=True)"
      ]
    },
    {
      "cell_type": "markdown",
      "metadata": {
        "id": "yNk3EN__WhGe"
      },
      "source": [
        "## Prediction"
      ]
    },
    {
      "cell_type": "code",
      "execution_count": 19,
      "metadata": {
        "id": "_uqjb6vJWkWO"
      },
      "outputs": [],
      "source": [
        "from tensorflow.keras.models import load_model\n",
        "import numpy as np\n",
        "import pickle\n",
        "\n",
        "# Load the model and tokenizer\n",
        "model = load_model('next_words.h5')\n",
        "tokenizer = pickle.load(open('token.pkl', 'rb'))\n",
        "\n",
        "def Predict_Next_Words(model, tokenizer, text):\n",
        "\n",
        "  sequence = tokenizer.texts_to_sequences([text])\n",
        "  sequence = np.array(sequence)\n",
        "  preds = np.argmax(model.predict(sequence))\n",
        "  predicted_word = \"\"\n",
        "\n",
        "  for key, value in tokenizer.word_index.items():\n",
        "      if value == preds:\n",
        "          predicted_word = key\n",
        "          break\n",
        "\n",
        "  print(predicted_word)\n",
        "  return predicted_word\n"
      ]
    },
    {
      "cell_type": "code",
      "execution_count": null,
      "metadata": {
        "id": "SWHnzEPeaBNG"
      },
      "outputs": [],
      "source": [
        "while(True):\n",
        "  text = input(\"Enter your line: \")\n",
        "\n",
        "  if text == \"0\":\n",
        "      print(\"Execution completed.....\")\n",
        "      break\n",
        "\n",
        "  else:\n",
        "      try:\n",
        "          text = text.split(\" \")\n",
        "          text = text[-3:]\n",
        "          print(text)\n",
        "\n",
        "          Predict_Next_Words(model, tokenizer, text)\n",
        "\n",
        "      except Exception as e:\n",
        "        print(\"Error occurred: \",e)\n",
        "        continue"
      ]
    }
  ],
  "metadata": {
    "accelerator": "GPU",
    "colab": {
      "provenance": [],
      "mount_file_id": "1q8w5aik_IWdZks1c9tRqkh_9rDV3-_oB",
      "authorship_tag": "ABX9TyMJv/ktLSrTmHi8+vwmgEiV",
      "include_colab_link": true
    },
    "kernelspec": {
      "display_name": "Python 3",
      "name": "python3"
    },
    "language_info": {
      "name": "python"
    }
  },
  "nbformat": 4,
  "nbformat_minor": 0
}